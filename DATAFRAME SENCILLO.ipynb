import pandas as pd
import numpy as np

# Creamos una lista de estudiantes
Estudiantes = ['Erick', 'Aldrick', 'Perla', 'Patricia']
# Asignamos un promedio random
Promedio = np.random.randint(100, size=4)
# Creamos un diccionario donde almacenaremos los estudiantes
dict = {'ESTUDIANTES': Estudiantes, 'PROMEDIO': Promedio}

# Creamos el dataframe
df = pd.DataFrame(dict)

#Imprimimos el DATAFRAME
print(df)

